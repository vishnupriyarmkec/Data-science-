{
 "cells": [
  {
   "cell_type": "code",
   "execution_count": 1,
   "id": "ec88a109",
   "metadata": {},
   "outputs": [],
   "source": [
    "#let us assume that a dataset consist of 5 columns namely roll number, name, department, mark and location .write thecode for the following function \n",
    "# i)to display first and last five rows\n",
    "#ii)display info of roll no column\n",
    "#iii)change the column name roll no as register number\n",
    "#iv)delete the column location\n",
    "#v)display the mark >80 and <95\n",
    "#vi)display the marks in ascending order \n",
    "#vii)insert new columns as gpa\n",
    "#viii)find the sum of  null values ,marks\n",
    "#create subset for first three columns\n",
    "#visualize the student mark using line chart\n",
    "#display the name and mark info using bar chart\n",
    "#apply stacked bar chart for any one col \n",
    "#locate the legend in top left location\n",
    "#draw the scatterplot for any 2 column \n",
    "#display the x axis and y axis label\n",
    "#display the area chart by any two columns\n",
    "#find the maximum mark from the data set and minimum mark from the data set\n",
    "#find the mean value for the column mark"
   ]
  },
  {
   "cell_type": "code",
   "execution_count": 3,
   "id": "05f46df4",
   "metadata": {},
   "outputs": [],
   "source": [
    "import numpy as np\n",
    "import pandas as pd\n",
    "import seaborn as sns\n",
    "ds=pd.DataFrame({'roll number':[1,2,3,4,5,6,7,8,9,10],'name':['vishnu','priya','dolly','janu','bhavana','sindhu','spandhana','manu','teju','swetha'],'dep':['cse','ece','eee','it','cse','cse','eee','ece','it','cse'],'mark':[65,87,34,76,90,56,67,73,56,67],'location':['tn','tn','tn','tn','tn','tn','tn','tn','tn','tn']})"
   ]
  },
  {
   "cell_type": "code",
   "execution_count": 4,
   "id": "fc599305",
   "metadata": {},
   "outputs": [
    {
     "data": {
      "text/html": [
       "<div>\n",
       "<style scoped>\n",
       "    .dataframe tbody tr th:only-of-type {\n",
       "        vertical-align: middle;\n",
       "    }\n",
       "\n",
       "    .dataframe tbody tr th {\n",
       "        vertical-align: top;\n",
       "    }\n",
       "\n",
       "    .dataframe thead th {\n",
       "        text-align: right;\n",
       "    }\n",
       "</style>\n",
       "<table border=\"1\" class=\"dataframe\">\n",
       "  <thead>\n",
       "    <tr style=\"text-align: right;\">\n",
       "      <th></th>\n",
       "      <th>roll number</th>\n",
       "      <th>name</th>\n",
       "      <th>dep</th>\n",
       "      <th>mark</th>\n",
       "      <th>location</th>\n",
       "    </tr>\n",
       "  </thead>\n",
       "  <tbody>\n",
       "    <tr>\n",
       "      <th>0</th>\n",
       "      <td>1</td>\n",
       "      <td>vishnu</td>\n",
       "      <td>cse</td>\n",
       "      <td>65</td>\n",
       "      <td>tn</td>\n",
       "    </tr>\n",
       "    <tr>\n",
       "      <th>1</th>\n",
       "      <td>2</td>\n",
       "      <td>priya</td>\n",
       "      <td>ece</td>\n",
       "      <td>87</td>\n",
       "      <td>tn</td>\n",
       "    </tr>\n",
       "    <tr>\n",
       "      <th>2</th>\n",
       "      <td>3</td>\n",
       "      <td>dolly</td>\n",
       "      <td>eee</td>\n",
       "      <td>34</td>\n",
       "      <td>tn</td>\n",
       "    </tr>\n",
       "    <tr>\n",
       "      <th>3</th>\n",
       "      <td>4</td>\n",
       "      <td>janu</td>\n",
       "      <td>it</td>\n",
       "      <td>76</td>\n",
       "      <td>tn</td>\n",
       "    </tr>\n",
       "    <tr>\n",
       "      <th>4</th>\n",
       "      <td>5</td>\n",
       "      <td>bhavana</td>\n",
       "      <td>cse</td>\n",
       "      <td>90</td>\n",
       "      <td>tn</td>\n",
       "    </tr>\n",
       "    <tr>\n",
       "      <th>5</th>\n",
       "      <td>6</td>\n",
       "      <td>sindhu</td>\n",
       "      <td>cse</td>\n",
       "      <td>56</td>\n",
       "      <td>tn</td>\n",
       "    </tr>\n",
       "    <tr>\n",
       "      <th>6</th>\n",
       "      <td>7</td>\n",
       "      <td>spandhana</td>\n",
       "      <td>eee</td>\n",
       "      <td>67</td>\n",
       "      <td>tn</td>\n",
       "    </tr>\n",
       "    <tr>\n",
       "      <th>7</th>\n",
       "      <td>8</td>\n",
       "      <td>manu</td>\n",
       "      <td>ece</td>\n",
       "      <td>73</td>\n",
       "      <td>tn</td>\n",
       "    </tr>\n",
       "    <tr>\n",
       "      <th>8</th>\n",
       "      <td>9</td>\n",
       "      <td>teju</td>\n",
       "      <td>it</td>\n",
       "      <td>56</td>\n",
       "      <td>tn</td>\n",
       "    </tr>\n",
       "    <tr>\n",
       "      <th>9</th>\n",
       "      <td>10</td>\n",
       "      <td>swetha</td>\n",
       "      <td>cse</td>\n",
       "      <td>67</td>\n",
       "      <td>tn</td>\n",
       "    </tr>\n",
       "  </tbody>\n",
       "</table>\n",
       "</div>"
      ],
      "text/plain": [
       "   roll number       name  dep  mark location\n",
       "0            1     vishnu  cse    65       tn\n",
       "1            2      priya  ece    87       tn\n",
       "2            3      dolly  eee    34       tn\n",
       "3            4       janu   it    76       tn\n",
       "4            5    bhavana  cse    90       tn\n",
       "5            6     sindhu  cse    56       tn\n",
       "6            7  spandhana  eee    67       tn\n",
       "7            8       manu  ece    73       tn\n",
       "8            9       teju   it    56       tn\n",
       "9           10     swetha  cse    67       tn"
      ]
     },
     "execution_count": 4,
     "metadata": {},
     "output_type": "execute_result"
    }
   ],
   "source": [
    "ds"
   ]
  },
  {
   "cell_type": "code",
   "execution_count": 8,
   "id": "351b7ebc",
   "metadata": {},
   "outputs": [
    {
     "data": {
      "text/html": [
       "<div>\n",
       "<style scoped>\n",
       "    .dataframe tbody tr th:only-of-type {\n",
       "        vertical-align: middle;\n",
       "    }\n",
       "\n",
       "    .dataframe tbody tr th {\n",
       "        vertical-align: top;\n",
       "    }\n",
       "\n",
       "    .dataframe thead th {\n",
       "        text-align: right;\n",
       "    }\n",
       "</style>\n",
       "<table border=\"1\" class=\"dataframe\">\n",
       "  <thead>\n",
       "    <tr style=\"text-align: right;\">\n",
       "      <th></th>\n",
       "      <th>roll number</th>\n",
       "      <th>name</th>\n",
       "      <th>dep</th>\n",
       "      <th>mark</th>\n",
       "      <th>location</th>\n",
       "    </tr>\n",
       "  </thead>\n",
       "  <tbody>\n",
       "    <tr>\n",
       "      <th>0</th>\n",
       "      <td>1</td>\n",
       "      <td>vishnu</td>\n",
       "      <td>cse</td>\n",
       "      <td>65</td>\n",
       "      <td>tn</td>\n",
       "    </tr>\n",
       "    <tr>\n",
       "      <th>1</th>\n",
       "      <td>2</td>\n",
       "      <td>priya</td>\n",
       "      <td>ece</td>\n",
       "      <td>87</td>\n",
       "      <td>tn</td>\n",
       "    </tr>\n",
       "    <tr>\n",
       "      <th>2</th>\n",
       "      <td>3</td>\n",
       "      <td>dolly</td>\n",
       "      <td>eee</td>\n",
       "      <td>34</td>\n",
       "      <td>tn</td>\n",
       "    </tr>\n",
       "    <tr>\n",
       "      <th>3</th>\n",
       "      <td>4</td>\n",
       "      <td>janu</td>\n",
       "      <td>it</td>\n",
       "      <td>76</td>\n",
       "      <td>tn</td>\n",
       "    </tr>\n",
       "    <tr>\n",
       "      <th>4</th>\n",
       "      <td>5</td>\n",
       "      <td>bhavana</td>\n",
       "      <td>cse</td>\n",
       "      <td>90</td>\n",
       "      <td>tn</td>\n",
       "    </tr>\n",
       "  </tbody>\n",
       "</table>\n",
       "</div>"
      ],
      "text/plain": [
       "   roll number     name  dep  mark location\n",
       "0            1   vishnu  cse    65       tn\n",
       "1            2    priya  ece    87       tn\n",
       "2            3    dolly  eee    34       tn\n",
       "3            4     janu   it    76       tn\n",
       "4            5  bhavana  cse    90       tn"
      ]
     },
     "execution_count": 8,
     "metadata": {},
     "output_type": "execute_result"
    }
   ],
   "source": [
    "ds.head(5)"
   ]
  },
  {
   "cell_type": "code",
   "execution_count": 9,
   "id": "20a03ad8",
   "metadata": {},
   "outputs": [
    {
     "data": {
      "text/html": [
       "<div>\n",
       "<style scoped>\n",
       "    .dataframe tbody tr th:only-of-type {\n",
       "        vertical-align: middle;\n",
       "    }\n",
       "\n",
       "    .dataframe tbody tr th {\n",
       "        vertical-align: top;\n",
       "    }\n",
       "\n",
       "    .dataframe thead th {\n",
       "        text-align: right;\n",
       "    }\n",
       "</style>\n",
       "<table border=\"1\" class=\"dataframe\">\n",
       "  <thead>\n",
       "    <tr style=\"text-align: right;\">\n",
       "      <th></th>\n",
       "      <th>roll number</th>\n",
       "      <th>name</th>\n",
       "      <th>dep</th>\n",
       "      <th>mark</th>\n",
       "      <th>location</th>\n",
       "    </tr>\n",
       "  </thead>\n",
       "  <tbody>\n",
       "    <tr>\n",
       "      <th>5</th>\n",
       "      <td>6</td>\n",
       "      <td>sindhu</td>\n",
       "      <td>cse</td>\n",
       "      <td>56</td>\n",
       "      <td>tn</td>\n",
       "    </tr>\n",
       "    <tr>\n",
       "      <th>6</th>\n",
       "      <td>7</td>\n",
       "      <td>spandhana</td>\n",
       "      <td>eee</td>\n",
       "      <td>67</td>\n",
       "      <td>tn</td>\n",
       "    </tr>\n",
       "    <tr>\n",
       "      <th>7</th>\n",
       "      <td>8</td>\n",
       "      <td>manu</td>\n",
       "      <td>ece</td>\n",
       "      <td>73</td>\n",
       "      <td>tn</td>\n",
       "    </tr>\n",
       "    <tr>\n",
       "      <th>8</th>\n",
       "      <td>9</td>\n",
       "      <td>teju</td>\n",
       "      <td>it</td>\n",
       "      <td>56</td>\n",
       "      <td>tn</td>\n",
       "    </tr>\n",
       "    <tr>\n",
       "      <th>9</th>\n",
       "      <td>10</td>\n",
       "      <td>swetha</td>\n",
       "      <td>cse</td>\n",
       "      <td>67</td>\n",
       "      <td>tn</td>\n",
       "    </tr>\n",
       "  </tbody>\n",
       "</table>\n",
       "</div>"
      ],
      "text/plain": [
       "   roll number       name  dep  mark location\n",
       "5            6     sindhu  cse    56       tn\n",
       "6            7  spandhana  eee    67       tn\n",
       "7            8       manu  ece    73       tn\n",
       "8            9       teju   it    56       tn\n",
       "9           10     swetha  cse    67       tn"
      ]
     },
     "execution_count": 9,
     "metadata": {},
     "output_type": "execute_result"
    }
   ],
   "source": [
    "ds.tail(5)"
   ]
  },
  {
   "cell_type": "code",
   "execution_count": 12,
   "id": "7f1033f2",
   "metadata": {},
   "outputs": [
    {
     "data": {
      "text/html": [
       "<div>\n",
       "<style scoped>\n",
       "    .dataframe tbody tr th:only-of-type {\n",
       "        vertical-align: middle;\n",
       "    }\n",
       "\n",
       "    .dataframe tbody tr th {\n",
       "        vertical-align: top;\n",
       "    }\n",
       "\n",
       "    .dataframe thead th {\n",
       "        text-align: right;\n",
       "    }\n",
       "</style>\n",
       "<table border=\"1\" class=\"dataframe\">\n",
       "  <thead>\n",
       "    <tr style=\"text-align: right;\">\n",
       "      <th></th>\n",
       "      <th>reg no</th>\n",
       "      <th>name</th>\n",
       "      <th>dep</th>\n",
       "      <th>mark</th>\n",
       "      <th>location</th>\n",
       "    </tr>\n",
       "  </thead>\n",
       "  <tbody>\n",
       "    <tr>\n",
       "      <th>0</th>\n",
       "      <td>1</td>\n",
       "      <td>vishnu</td>\n",
       "      <td>cse</td>\n",
       "      <td>65</td>\n",
       "      <td>tn</td>\n",
       "    </tr>\n",
       "    <tr>\n",
       "      <th>1</th>\n",
       "      <td>2</td>\n",
       "      <td>priya</td>\n",
       "      <td>ece</td>\n",
       "      <td>87</td>\n",
       "      <td>tn</td>\n",
       "    </tr>\n",
       "    <tr>\n",
       "      <th>2</th>\n",
       "      <td>3</td>\n",
       "      <td>dolly</td>\n",
       "      <td>eee</td>\n",
       "      <td>34</td>\n",
       "      <td>tn</td>\n",
       "    </tr>\n",
       "    <tr>\n",
       "      <th>3</th>\n",
       "      <td>4</td>\n",
       "      <td>janu</td>\n",
       "      <td>it</td>\n",
       "      <td>76</td>\n",
       "      <td>tn</td>\n",
       "    </tr>\n",
       "    <tr>\n",
       "      <th>4</th>\n",
       "      <td>5</td>\n",
       "      <td>bhavana</td>\n",
       "      <td>cse</td>\n",
       "      <td>90</td>\n",
       "      <td>tn</td>\n",
       "    </tr>\n",
       "    <tr>\n",
       "      <th>5</th>\n",
       "      <td>6</td>\n",
       "      <td>sindhu</td>\n",
       "      <td>cse</td>\n",
       "      <td>56</td>\n",
       "      <td>tn</td>\n",
       "    </tr>\n",
       "    <tr>\n",
       "      <th>6</th>\n",
       "      <td>7</td>\n",
       "      <td>spandhana</td>\n",
       "      <td>eee</td>\n",
       "      <td>67</td>\n",
       "      <td>tn</td>\n",
       "    </tr>\n",
       "    <tr>\n",
       "      <th>7</th>\n",
       "      <td>8</td>\n",
       "      <td>manu</td>\n",
       "      <td>ece</td>\n",
       "      <td>73</td>\n",
       "      <td>tn</td>\n",
       "    </tr>\n",
       "    <tr>\n",
       "      <th>8</th>\n",
       "      <td>9</td>\n",
       "      <td>teju</td>\n",
       "      <td>it</td>\n",
       "      <td>56</td>\n",
       "      <td>tn</td>\n",
       "    </tr>\n",
       "    <tr>\n",
       "      <th>9</th>\n",
       "      <td>10</td>\n",
       "      <td>swetha</td>\n",
       "      <td>cse</td>\n",
       "      <td>67</td>\n",
       "      <td>tn</td>\n",
       "    </tr>\n",
       "  </tbody>\n",
       "</table>\n",
       "</div>"
      ],
      "text/plain": [
       "   reg no       name  dep  mark location\n",
       "0       1     vishnu  cse    65       tn\n",
       "1       2      priya  ece    87       tn\n",
       "2       3      dolly  eee    34       tn\n",
       "3       4       janu   it    76       tn\n",
       "4       5    bhavana  cse    90       tn\n",
       "5       6     sindhu  cse    56       tn\n",
       "6       7  spandhana  eee    67       tn\n",
       "7       8       manu  ece    73       tn\n",
       "8       9       teju   it    56       tn\n",
       "9      10     swetha  cse    67       tn"
      ]
     },
     "execution_count": 12,
     "metadata": {},
     "output_type": "execute_result"
    }
   ],
   "source": [
    "ds.rename(columns={'roll number':'reg no'})"
   ]
  },
  {
   "cell_type": "code",
   "execution_count": 15,
   "id": "8f5723db",
   "metadata": {},
   "outputs": [
    {
     "data": {
      "text/html": [
       "<div>\n",
       "<style scoped>\n",
       "    .dataframe tbody tr th:only-of-type {\n",
       "        vertical-align: middle;\n",
       "    }\n",
       "\n",
       "    .dataframe tbody tr th {\n",
       "        vertical-align: top;\n",
       "    }\n",
       "\n",
       "    .dataframe thead th {\n",
       "        text-align: right;\n",
       "    }\n",
       "</style>\n",
       "<table border=\"1\" class=\"dataframe\">\n",
       "  <thead>\n",
       "    <tr style=\"text-align: right;\">\n",
       "      <th></th>\n",
       "      <th>roll number</th>\n",
       "      <th>name</th>\n",
       "      <th>dep</th>\n",
       "      <th>mark</th>\n",
       "    </tr>\n",
       "  </thead>\n",
       "  <tbody>\n",
       "    <tr>\n",
       "      <th>0</th>\n",
       "      <td>1</td>\n",
       "      <td>vishnu</td>\n",
       "      <td>cse</td>\n",
       "      <td>65</td>\n",
       "    </tr>\n",
       "    <tr>\n",
       "      <th>1</th>\n",
       "      <td>2</td>\n",
       "      <td>priya</td>\n",
       "      <td>ece</td>\n",
       "      <td>87</td>\n",
       "    </tr>\n",
       "    <tr>\n",
       "      <th>2</th>\n",
       "      <td>3</td>\n",
       "      <td>dolly</td>\n",
       "      <td>eee</td>\n",
       "      <td>34</td>\n",
       "    </tr>\n",
       "    <tr>\n",
       "      <th>3</th>\n",
       "      <td>4</td>\n",
       "      <td>janu</td>\n",
       "      <td>it</td>\n",
       "      <td>76</td>\n",
       "    </tr>\n",
       "    <tr>\n",
       "      <th>4</th>\n",
       "      <td>5</td>\n",
       "      <td>bhavana</td>\n",
       "      <td>cse</td>\n",
       "      <td>90</td>\n",
       "    </tr>\n",
       "    <tr>\n",
       "      <th>5</th>\n",
       "      <td>6</td>\n",
       "      <td>sindhu</td>\n",
       "      <td>cse</td>\n",
       "      <td>56</td>\n",
       "    </tr>\n",
       "    <tr>\n",
       "      <th>6</th>\n",
       "      <td>7</td>\n",
       "      <td>spandhana</td>\n",
       "      <td>eee</td>\n",
       "      <td>67</td>\n",
       "    </tr>\n",
       "    <tr>\n",
       "      <th>7</th>\n",
       "      <td>8</td>\n",
       "      <td>manu</td>\n",
       "      <td>ece</td>\n",
       "      <td>73</td>\n",
       "    </tr>\n",
       "    <tr>\n",
       "      <th>8</th>\n",
       "      <td>9</td>\n",
       "      <td>teju</td>\n",
       "      <td>it</td>\n",
       "      <td>56</td>\n",
       "    </tr>\n",
       "    <tr>\n",
       "      <th>9</th>\n",
       "      <td>10</td>\n",
       "      <td>swetha</td>\n",
       "      <td>cse</td>\n",
       "      <td>67</td>\n",
       "    </tr>\n",
       "  </tbody>\n",
       "</table>\n",
       "</div>"
      ],
      "text/plain": [
       "   roll number       name  dep  mark\n",
       "0            1     vishnu  cse    65\n",
       "1            2      priya  ece    87\n",
       "2            3      dolly  eee    34\n",
       "3            4       janu   it    76\n",
       "4            5    bhavana  cse    90\n",
       "5            6     sindhu  cse    56\n",
       "6            7  spandhana  eee    67\n",
       "7            8       manu  ece    73\n",
       "8            9       teju   it    56\n",
       "9           10     swetha  cse    67"
      ]
     },
     "execution_count": 15,
     "metadata": {},
     "output_type": "execute_result"
    }
   ],
   "source": [
    "ds.drop(columns='location')"
   ]
  },
  {
   "cell_type": "code",
   "execution_count": 16,
   "id": "6e62294a",
   "metadata": {},
   "outputs": [
    {
     "data": {
      "text/html": [
       "<div>\n",
       "<style scoped>\n",
       "    .dataframe tbody tr th:only-of-type {\n",
       "        vertical-align: middle;\n",
       "    }\n",
       "\n",
       "    .dataframe tbody tr th {\n",
       "        vertical-align: top;\n",
       "    }\n",
       "\n",
       "    .dataframe thead th {\n",
       "        text-align: right;\n",
       "    }\n",
       "</style>\n",
       "<table border=\"1\" class=\"dataframe\">\n",
       "  <thead>\n",
       "    <tr style=\"text-align: right;\">\n",
       "      <th></th>\n",
       "      <th>roll number</th>\n",
       "      <th>name</th>\n",
       "      <th>dep</th>\n",
       "      <th>mark</th>\n",
       "      <th>location</th>\n",
       "    </tr>\n",
       "  </thead>\n",
       "  <tbody>\n",
       "    <tr>\n",
       "      <th>1</th>\n",
       "      <td>2</td>\n",
       "      <td>priya</td>\n",
       "      <td>ece</td>\n",
       "      <td>87</td>\n",
       "      <td>tn</td>\n",
       "    </tr>\n",
       "  </tbody>\n",
       "</table>\n",
       "</div>"
      ],
      "text/plain": [
       "   roll number   name  dep  mark location\n",
       "1            2  priya  ece    87       tn"
      ]
     },
     "execution_count": 16,
     "metadata": {},
     "output_type": "execute_result"
    }
   ],
   "source": [
    "ds[((ds['mark']>80)&(ds['mark']<90))]"
   ]
  },
  {
   "cell_type": "code",
   "execution_count": 5,
   "id": "755d7986",
   "metadata": {},
   "outputs": [
    {
     "data": {
      "text/html": [
       "<div>\n",
       "<style scoped>\n",
       "    .dataframe tbody tr th:only-of-type {\n",
       "        vertical-align: middle;\n",
       "    }\n",
       "\n",
       "    .dataframe tbody tr th {\n",
       "        vertical-align: top;\n",
       "    }\n",
       "\n",
       "    .dataframe thead th {\n",
       "        text-align: right;\n",
       "    }\n",
       "</style>\n",
       "<table border=\"1\" class=\"dataframe\">\n",
       "  <thead>\n",
       "    <tr style=\"text-align: right;\">\n",
       "      <th></th>\n",
       "      <th>roll number</th>\n",
       "      <th>name</th>\n",
       "      <th>dep</th>\n",
       "      <th>mark</th>\n",
       "      <th>location</th>\n",
       "    </tr>\n",
       "  </thead>\n",
       "  <tbody>\n",
       "    <tr>\n",
       "      <th>0</th>\n",
       "      <td>1</td>\n",
       "      <td>vishnu</td>\n",
       "      <td>cse</td>\n",
       "      <td>65</td>\n",
       "      <td>tn</td>\n",
       "    </tr>\n",
       "    <tr>\n",
       "      <th>1</th>\n",
       "      <td>2</td>\n",
       "      <td>priya</td>\n",
       "      <td>ece</td>\n",
       "      <td>87</td>\n",
       "      <td>tn</td>\n",
       "    </tr>\n",
       "    <tr>\n",
       "      <th>2</th>\n",
       "      <td>3</td>\n",
       "      <td>dolly</td>\n",
       "      <td>eee</td>\n",
       "      <td>34</td>\n",
       "      <td>tn</td>\n",
       "    </tr>\n",
       "    <tr>\n",
       "      <th>3</th>\n",
       "      <td>4</td>\n",
       "      <td>janu</td>\n",
       "      <td>it</td>\n",
       "      <td>76</td>\n",
       "      <td>tn</td>\n",
       "    </tr>\n",
       "    <tr>\n",
       "      <th>4</th>\n",
       "      <td>5</td>\n",
       "      <td>bhavana</td>\n",
       "      <td>cse</td>\n",
       "      <td>90</td>\n",
       "      <td>tn</td>\n",
       "    </tr>\n",
       "    <tr>\n",
       "      <th>5</th>\n",
       "      <td>6</td>\n",
       "      <td>sindhu</td>\n",
       "      <td>cse</td>\n",
       "      <td>56</td>\n",
       "      <td>tn</td>\n",
       "    </tr>\n",
       "    <tr>\n",
       "      <th>6</th>\n",
       "      <td>7</td>\n",
       "      <td>spandhana</td>\n",
       "      <td>eee</td>\n",
       "      <td>67</td>\n",
       "      <td>tn</td>\n",
       "    </tr>\n",
       "    <tr>\n",
       "      <th>7</th>\n",
       "      <td>8</td>\n",
       "      <td>manu</td>\n",
       "      <td>ece</td>\n",
       "      <td>73</td>\n",
       "      <td>tn</td>\n",
       "    </tr>\n",
       "    <tr>\n",
       "      <th>8</th>\n",
       "      <td>9</td>\n",
       "      <td>teju</td>\n",
       "      <td>it</td>\n",
       "      <td>56</td>\n",
       "      <td>tn</td>\n",
       "    </tr>\n",
       "    <tr>\n",
       "      <th>9</th>\n",
       "      <td>10</td>\n",
       "      <td>swetha</td>\n",
       "      <td>cse</td>\n",
       "      <td>67</td>\n",
       "      <td>tn</td>\n",
       "    </tr>\n",
       "  </tbody>\n",
       "</table>\n",
       "</div>"
      ],
      "text/plain": [
       "   roll number       name  dep  mark location\n",
       "0            1     vishnu  cse    65       tn\n",
       "1            2      priya  ece    87       tn\n",
       "2            3      dolly  eee    34       tn\n",
       "3            4       janu   it    76       tn\n",
       "4            5    bhavana  cse    90       tn\n",
       "5            6     sindhu  cse    56       tn\n",
       "6            7  spandhana  eee    67       tn\n",
       "7            8       manu  ece    73       tn\n",
       "8            9       teju   it    56       tn\n",
       "9           10     swetha  cse    67       tn"
      ]
     },
     "execution_count": 5,
     "metadata": {},
     "output_type": "execute_result"
    }
   ],
   "source": [
    "ds"
   ]
  },
  {
   "cell_type": "code",
   "execution_count": 4,
   "id": "87b5e5de",
   "metadata": {},
   "outputs": [],
   "source": [
    "import numpy as np\n",
    "import pandas as pd\n",
    "import seaborn as sns\n",
    "ds=pd.DataFrame({'roll number':[1,2,3,4,5,6,7,8,9,10],'name':['vishnu','priya','dolly','janu','bhavana','sindhu','spandhana','manu','teju','swetha'],'dep':['cse','ece','eee','it','cse','cse','eee','ece','it','cse'],'mark':[65,87,34,76,90,56,67,73,56,67],'location':['tn','tn','tn','tn','tn','tn','tn','tn','tn','tn']})\n"
   ]
  },
  {
   "cell_type": "code",
   "execution_count": 5,
   "id": "f073eb12",
   "metadata": {},
   "outputs": [
    {
     "data": {
      "text/html": [
       "<div>\n",
       "<style scoped>\n",
       "    .dataframe tbody tr th:only-of-type {\n",
       "        vertical-align: middle;\n",
       "    }\n",
       "\n",
       "    .dataframe tbody tr th {\n",
       "        vertical-align: top;\n",
       "    }\n",
       "\n",
       "    .dataframe thead th {\n",
       "        text-align: right;\n",
       "    }\n",
       "</style>\n",
       "<table border=\"1\" class=\"dataframe\">\n",
       "  <thead>\n",
       "    <tr style=\"text-align: right;\">\n",
       "      <th></th>\n",
       "      <th>roll number</th>\n",
       "      <th>name</th>\n",
       "      <th>dep</th>\n",
       "      <th>mark</th>\n",
       "      <th>location</th>\n",
       "    </tr>\n",
       "  </thead>\n",
       "  <tbody>\n",
       "    <tr>\n",
       "      <th>0</th>\n",
       "      <td>1</td>\n",
       "      <td>vishnu</td>\n",
       "      <td>cse</td>\n",
       "      <td>65</td>\n",
       "      <td>tn</td>\n",
       "    </tr>\n",
       "    <tr>\n",
       "      <th>1</th>\n",
       "      <td>2</td>\n",
       "      <td>priya</td>\n",
       "      <td>ece</td>\n",
       "      <td>87</td>\n",
       "      <td>tn</td>\n",
       "    </tr>\n",
       "    <tr>\n",
       "      <th>2</th>\n",
       "      <td>3</td>\n",
       "      <td>dolly</td>\n",
       "      <td>eee</td>\n",
       "      <td>34</td>\n",
       "      <td>tn</td>\n",
       "    </tr>\n",
       "    <tr>\n",
       "      <th>3</th>\n",
       "      <td>4</td>\n",
       "      <td>janu</td>\n",
       "      <td>it</td>\n",
       "      <td>76</td>\n",
       "      <td>tn</td>\n",
       "    </tr>\n",
       "    <tr>\n",
       "      <th>4</th>\n",
       "      <td>5</td>\n",
       "      <td>bhavana</td>\n",
       "      <td>cse</td>\n",
       "      <td>90</td>\n",
       "      <td>tn</td>\n",
       "    </tr>\n",
       "    <tr>\n",
       "      <th>5</th>\n",
       "      <td>6</td>\n",
       "      <td>sindhu</td>\n",
       "      <td>cse</td>\n",
       "      <td>56</td>\n",
       "      <td>tn</td>\n",
       "    </tr>\n",
       "    <tr>\n",
       "      <th>6</th>\n",
       "      <td>7</td>\n",
       "      <td>spandhana</td>\n",
       "      <td>eee</td>\n",
       "      <td>67</td>\n",
       "      <td>tn</td>\n",
       "    </tr>\n",
       "    <tr>\n",
       "      <th>7</th>\n",
       "      <td>8</td>\n",
       "      <td>manu</td>\n",
       "      <td>ece</td>\n",
       "      <td>73</td>\n",
       "      <td>tn</td>\n",
       "    </tr>\n",
       "    <tr>\n",
       "      <th>8</th>\n",
       "      <td>9</td>\n",
       "      <td>teju</td>\n",
       "      <td>it</td>\n",
       "      <td>56</td>\n",
       "      <td>tn</td>\n",
       "    </tr>\n",
       "    <tr>\n",
       "      <th>9</th>\n",
       "      <td>10</td>\n",
       "      <td>swetha</td>\n",
       "      <td>cse</td>\n",
       "      <td>67</td>\n",
       "      <td>tn</td>\n",
       "    </tr>\n",
       "  </tbody>\n",
       "</table>\n",
       "</div>"
      ],
      "text/plain": [
       "   roll number       name  dep  mark location\n",
       "0            1     vishnu  cse    65       tn\n",
       "1            2      priya  ece    87       tn\n",
       "2            3      dolly  eee    34       tn\n",
       "3            4       janu   it    76       tn\n",
       "4            5    bhavana  cse    90       tn\n",
       "5            6     sindhu  cse    56       tn\n",
       "6            7  spandhana  eee    67       tn\n",
       "7            8       manu  ece    73       tn\n",
       "8            9       teju   it    56       tn\n",
       "9           10     swetha  cse    67       tn"
      ]
     },
     "execution_count": 5,
     "metadata": {},
     "output_type": "execute_result"
    }
   ],
   "source": [
    "ds"
   ]
  },
  {
   "cell_type": "code",
   "execution_count": 6,
   "id": "857af4fe",
   "metadata": {},
   "outputs": [
    {
     "data": {
      "text/html": [
       "<div>\n",
       "<style scoped>\n",
       "    .dataframe tbody tr th:only-of-type {\n",
       "        vertical-align: middle;\n",
       "    }\n",
       "\n",
       "    .dataframe tbody tr th {\n",
       "        vertical-align: top;\n",
       "    }\n",
       "\n",
       "    .dataframe thead th {\n",
       "        text-align: right;\n",
       "    }\n",
       "</style>\n",
       "<table border=\"1\" class=\"dataframe\">\n",
       "  <thead>\n",
       "    <tr style=\"text-align: right;\">\n",
       "      <th></th>\n",
       "      <th>roll number</th>\n",
       "      <th>name</th>\n",
       "      <th>dep</th>\n",
       "      <th>mark</th>\n",
       "      <th>location</th>\n",
       "    </tr>\n",
       "  </thead>\n",
       "  <tbody>\n",
       "    <tr>\n",
       "      <th>2</th>\n",
       "      <td>3</td>\n",
       "      <td>dolly</td>\n",
       "      <td>eee</td>\n",
       "      <td>34</td>\n",
       "      <td>tn</td>\n",
       "    </tr>\n",
       "    <tr>\n",
       "      <th>5</th>\n",
       "      <td>6</td>\n",
       "      <td>sindhu</td>\n",
       "      <td>cse</td>\n",
       "      <td>56</td>\n",
       "      <td>tn</td>\n",
       "    </tr>\n",
       "    <tr>\n",
       "      <th>8</th>\n",
       "      <td>9</td>\n",
       "      <td>teju</td>\n",
       "      <td>it</td>\n",
       "      <td>56</td>\n",
       "      <td>tn</td>\n",
       "    </tr>\n",
       "    <tr>\n",
       "      <th>0</th>\n",
       "      <td>1</td>\n",
       "      <td>vishnu</td>\n",
       "      <td>cse</td>\n",
       "      <td>65</td>\n",
       "      <td>tn</td>\n",
       "    </tr>\n",
       "    <tr>\n",
       "      <th>6</th>\n",
       "      <td>7</td>\n",
       "      <td>spandhana</td>\n",
       "      <td>eee</td>\n",
       "      <td>67</td>\n",
       "      <td>tn</td>\n",
       "    </tr>\n",
       "    <tr>\n",
       "      <th>9</th>\n",
       "      <td>10</td>\n",
       "      <td>swetha</td>\n",
       "      <td>cse</td>\n",
       "      <td>67</td>\n",
       "      <td>tn</td>\n",
       "    </tr>\n",
       "    <tr>\n",
       "      <th>7</th>\n",
       "      <td>8</td>\n",
       "      <td>manu</td>\n",
       "      <td>ece</td>\n",
       "      <td>73</td>\n",
       "      <td>tn</td>\n",
       "    </tr>\n",
       "    <tr>\n",
       "      <th>3</th>\n",
       "      <td>4</td>\n",
       "      <td>janu</td>\n",
       "      <td>it</td>\n",
       "      <td>76</td>\n",
       "      <td>tn</td>\n",
       "    </tr>\n",
       "    <tr>\n",
       "      <th>1</th>\n",
       "      <td>2</td>\n",
       "      <td>priya</td>\n",
       "      <td>ece</td>\n",
       "      <td>87</td>\n",
       "      <td>tn</td>\n",
       "    </tr>\n",
       "    <tr>\n",
       "      <th>4</th>\n",
       "      <td>5</td>\n",
       "      <td>bhavana</td>\n",
       "      <td>cse</td>\n",
       "      <td>90</td>\n",
       "      <td>tn</td>\n",
       "    </tr>\n",
       "  </tbody>\n",
       "</table>\n",
       "</div>"
      ],
      "text/plain": [
       "   roll number       name  dep  mark location\n",
       "2            3      dolly  eee    34       tn\n",
       "5            6     sindhu  cse    56       tn\n",
       "8            9       teju   it    56       tn\n",
       "0            1     vishnu  cse    65       tn\n",
       "6            7  spandhana  eee    67       tn\n",
       "9           10     swetha  cse    67       tn\n",
       "7            8       manu  ece    73       tn\n",
       "3            4       janu   it    76       tn\n",
       "1            2      priya  ece    87       tn\n",
       "4            5    bhavana  cse    90       tn"
      ]
     },
     "execution_count": 6,
     "metadata": {},
     "output_type": "execute_result"
    }
   ],
   "source": [
    "ds.sort_values(\"mark\")"
   ]
  },
  {
   "cell_type": "code",
   "execution_count": 8,
   "id": "3f2d6406",
   "metadata": {},
   "outputs": [
    {
     "ename": "ValueError",
     "evalue": "cannot insert gpa, already exists",
     "output_type": "error",
     "traceback": [
      "\u001b[1;31m---------------------------------------------------------------------------\u001b[0m",
      "\u001b[1;31mValueError\u001b[0m                                Traceback (most recent call last)",
      "\u001b[1;32m~\\AppData\\Local\\Temp\\ipykernel_27912\\4061532476.py\u001b[0m in \u001b[0;36m<module>\u001b[1;34m\u001b[0m\n\u001b[1;32m----> 1\u001b[1;33m \u001b[0mds\u001b[0m\u001b[1;33m.\u001b[0m\u001b[0minsert\u001b[0m\u001b[1;33m(\u001b[0m\u001b[1;36m5\u001b[0m\u001b[1;33m,\u001b[0m\u001b[1;34m\"gpa\"\u001b[0m\u001b[1;33m,\u001b[0m\u001b[1;34m\"10.0\"\u001b[0m\u001b[1;33m)\u001b[0m\u001b[1;33m\u001b[0m\u001b[1;33m\u001b[0m\u001b[0m\n\u001b[0m",
      "\u001b[1;32m~\\anaconda3\\lib\\site-packages\\pandas\\core\\frame.py\u001b[0m in \u001b[0;36minsert\u001b[1;34m(self, loc, column, value, allow_duplicates)\u001b[0m\n\u001b[0;32m   4441\u001b[0m         \u001b[1;32mif\u001b[0m \u001b[1;32mnot\u001b[0m \u001b[0mallow_duplicates\u001b[0m \u001b[1;32mand\u001b[0m \u001b[0mcolumn\u001b[0m \u001b[1;32min\u001b[0m \u001b[0mself\u001b[0m\u001b[1;33m.\u001b[0m\u001b[0mcolumns\u001b[0m\u001b[1;33m:\u001b[0m\u001b[1;33m\u001b[0m\u001b[1;33m\u001b[0m\u001b[0m\n\u001b[0;32m   4442\u001b[0m             \u001b[1;31m# Should this be a different kind of error??\u001b[0m\u001b[1;33m\u001b[0m\u001b[1;33m\u001b[0m\u001b[0m\n\u001b[1;32m-> 4443\u001b[1;33m             \u001b[1;32mraise\u001b[0m \u001b[0mValueError\u001b[0m\u001b[1;33m(\u001b[0m\u001b[1;34mf\"cannot insert {column}, already exists\"\u001b[0m\u001b[1;33m)\u001b[0m\u001b[1;33m\u001b[0m\u001b[1;33m\u001b[0m\u001b[0m\n\u001b[0m\u001b[0;32m   4444\u001b[0m         \u001b[1;32mif\u001b[0m \u001b[1;32mnot\u001b[0m \u001b[0misinstance\u001b[0m\u001b[1;33m(\u001b[0m\u001b[0mloc\u001b[0m\u001b[1;33m,\u001b[0m \u001b[0mint\u001b[0m\u001b[1;33m)\u001b[0m\u001b[1;33m:\u001b[0m\u001b[1;33m\u001b[0m\u001b[1;33m\u001b[0m\u001b[0m\n\u001b[0;32m   4445\u001b[0m             \u001b[1;32mraise\u001b[0m \u001b[0mTypeError\u001b[0m\u001b[1;33m(\u001b[0m\u001b[1;34m\"loc must be int\"\u001b[0m\u001b[1;33m)\u001b[0m\u001b[1;33m\u001b[0m\u001b[1;33m\u001b[0m\u001b[0m\n",
      "\u001b[1;31mValueError\u001b[0m: cannot insert gpa, already exists"
     ]
    }
   ],
   "source": [
    "ds.insert(5,\"gpa\",\"10.0\")"
   ]
  },
  {
   "cell_type": "code",
   "execution_count": 9,
   "id": "21215e25",
   "metadata": {},
   "outputs": [
    {
     "data": {
      "text/html": [
       "<div>\n",
       "<style scoped>\n",
       "    .dataframe tbody tr th:only-of-type {\n",
       "        vertical-align: middle;\n",
       "    }\n",
       "\n",
       "    .dataframe tbody tr th {\n",
       "        vertical-align: top;\n",
       "    }\n",
       "\n",
       "    .dataframe thead th {\n",
       "        text-align: right;\n",
       "    }\n",
       "</style>\n",
       "<table border=\"1\" class=\"dataframe\">\n",
       "  <thead>\n",
       "    <tr style=\"text-align: right;\">\n",
       "      <th></th>\n",
       "      <th>roll number</th>\n",
       "      <th>name</th>\n",
       "      <th>dep</th>\n",
       "      <th>mark</th>\n",
       "      <th>location</th>\n",
       "      <th>gpa</th>\n",
       "    </tr>\n",
       "  </thead>\n",
       "  <tbody>\n",
       "    <tr>\n",
       "      <th>0</th>\n",
       "      <td>1</td>\n",
       "      <td>vishnu</td>\n",
       "      <td>cse</td>\n",
       "      <td>65</td>\n",
       "      <td>tn</td>\n",
       "      <td>10.0</td>\n",
       "    </tr>\n",
       "    <tr>\n",
       "      <th>1</th>\n",
       "      <td>2</td>\n",
       "      <td>priya</td>\n",
       "      <td>ece</td>\n",
       "      <td>87</td>\n",
       "      <td>tn</td>\n",
       "      <td>10.0</td>\n",
       "    </tr>\n",
       "    <tr>\n",
       "      <th>2</th>\n",
       "      <td>3</td>\n",
       "      <td>dolly</td>\n",
       "      <td>eee</td>\n",
       "      <td>34</td>\n",
       "      <td>tn</td>\n",
       "      <td>10.0</td>\n",
       "    </tr>\n",
       "    <tr>\n",
       "      <th>3</th>\n",
       "      <td>4</td>\n",
       "      <td>janu</td>\n",
       "      <td>it</td>\n",
       "      <td>76</td>\n",
       "      <td>tn</td>\n",
       "      <td>10.0</td>\n",
       "    </tr>\n",
       "    <tr>\n",
       "      <th>4</th>\n",
       "      <td>5</td>\n",
       "      <td>bhavana</td>\n",
       "      <td>cse</td>\n",
       "      <td>90</td>\n",
       "      <td>tn</td>\n",
       "      <td>10.0</td>\n",
       "    </tr>\n",
       "    <tr>\n",
       "      <th>5</th>\n",
       "      <td>6</td>\n",
       "      <td>sindhu</td>\n",
       "      <td>cse</td>\n",
       "      <td>56</td>\n",
       "      <td>tn</td>\n",
       "      <td>10.0</td>\n",
       "    </tr>\n",
       "    <tr>\n",
       "      <th>6</th>\n",
       "      <td>7</td>\n",
       "      <td>spandhana</td>\n",
       "      <td>eee</td>\n",
       "      <td>67</td>\n",
       "      <td>tn</td>\n",
       "      <td>10.0</td>\n",
       "    </tr>\n",
       "    <tr>\n",
       "      <th>7</th>\n",
       "      <td>8</td>\n",
       "      <td>manu</td>\n",
       "      <td>ece</td>\n",
       "      <td>73</td>\n",
       "      <td>tn</td>\n",
       "      <td>10.0</td>\n",
       "    </tr>\n",
       "    <tr>\n",
       "      <th>8</th>\n",
       "      <td>9</td>\n",
       "      <td>teju</td>\n",
       "      <td>it</td>\n",
       "      <td>56</td>\n",
       "      <td>tn</td>\n",
       "      <td>10.0</td>\n",
       "    </tr>\n",
       "    <tr>\n",
       "      <th>9</th>\n",
       "      <td>10</td>\n",
       "      <td>swetha</td>\n",
       "      <td>cse</td>\n",
       "      <td>67</td>\n",
       "      <td>tn</td>\n",
       "      <td>10.0</td>\n",
       "    </tr>\n",
       "  </tbody>\n",
       "</table>\n",
       "</div>"
      ],
      "text/plain": [
       "   roll number       name  dep  mark location   gpa\n",
       "0            1     vishnu  cse    65       tn  10.0\n",
       "1            2      priya  ece    87       tn  10.0\n",
       "2            3      dolly  eee    34       tn  10.0\n",
       "3            4       janu   it    76       tn  10.0\n",
       "4            5    bhavana  cse    90       tn  10.0\n",
       "5            6     sindhu  cse    56       tn  10.0\n",
       "6            7  spandhana  eee    67       tn  10.0\n",
       "7            8       manu  ece    73       tn  10.0\n",
       "8            9       teju   it    56       tn  10.0\n",
       "9           10     swetha  cse    67       tn  10.0"
      ]
     },
     "execution_count": 9,
     "metadata": {},
     "output_type": "execute_result"
    }
   ],
   "source": [
    "ds"
   ]
  },
  {
   "cell_type": "code",
   "execution_count": 15,
   "id": "9d7c2237",
   "metadata": {},
   "outputs": [],
   "source": [
    "s=ds['mark'].sum()"
   ]
  },
  {
   "cell_type": "code",
   "execution_count": 16,
   "id": "f91a2e95",
   "metadata": {},
   "outputs": [
    {
     "data": {
      "text/plain": [
       "671"
      ]
     },
     "execution_count": 16,
     "metadata": {},
     "output_type": "execute_result"
    }
   ],
   "source": [
    "\n",
    "s"
   ]
  },
  {
   "cell_type": "code",
   "execution_count": 4,
   "id": "485e1118",
   "metadata": {},
   "outputs": [],
   "source": [
    "import numpy as np\n",
    "import pandas as pd\n",
    "import seaborn as sns\n",
    "ds=pd.DataFrame({'roll number':[1,2,3,4,5,6,7,8,9,10],'name':['vishnu','priya','dolly','janu','bhavana','sindhu','spandhana','manu','teju','swetha'],'dep':['cse','ece','eee','it','cse','cse','eee','ece','it','cse'],'mark':[65,87,34,76,90,56,67,73,56,67],'location':['tn','tn','tn','tn','tn','tn','tn','tn','tn','tn']})\n",
    "ds1=ds.loc[0:10,[\"roll number\",\"name\",\"dep\"]]"
   ]
  },
  {
   "cell_type": "code",
   "execution_count": 5,
   "id": "0a9a4a01",
   "metadata": {},
   "outputs": [
    {
     "data": {
      "text/html": [
       "<div>\n",
       "<style scoped>\n",
       "    .dataframe tbody tr th:only-of-type {\n",
       "        vertical-align: middle;\n",
       "    }\n",
       "\n",
       "    .dataframe tbody tr th {\n",
       "        vertical-align: top;\n",
       "    }\n",
       "\n",
       "    .dataframe thead th {\n",
       "        text-align: right;\n",
       "    }\n",
       "</style>\n",
       "<table border=\"1\" class=\"dataframe\">\n",
       "  <thead>\n",
       "    <tr style=\"text-align: right;\">\n",
       "      <th></th>\n",
       "      <th>roll number</th>\n",
       "      <th>name</th>\n",
       "      <th>dep</th>\n",
       "    </tr>\n",
       "  </thead>\n",
       "  <tbody>\n",
       "    <tr>\n",
       "      <th>0</th>\n",
       "      <td>1</td>\n",
       "      <td>vishnu</td>\n",
       "      <td>cse</td>\n",
       "    </tr>\n",
       "    <tr>\n",
       "      <th>1</th>\n",
       "      <td>2</td>\n",
       "      <td>priya</td>\n",
       "      <td>ece</td>\n",
       "    </tr>\n",
       "    <tr>\n",
       "      <th>2</th>\n",
       "      <td>3</td>\n",
       "      <td>dolly</td>\n",
       "      <td>eee</td>\n",
       "    </tr>\n",
       "    <tr>\n",
       "      <th>3</th>\n",
       "      <td>4</td>\n",
       "      <td>janu</td>\n",
       "      <td>it</td>\n",
       "    </tr>\n",
       "    <tr>\n",
       "      <th>4</th>\n",
       "      <td>5</td>\n",
       "      <td>bhavana</td>\n",
       "      <td>cse</td>\n",
       "    </tr>\n",
       "    <tr>\n",
       "      <th>5</th>\n",
       "      <td>6</td>\n",
       "      <td>sindhu</td>\n",
       "      <td>cse</td>\n",
       "    </tr>\n",
       "    <tr>\n",
       "      <th>6</th>\n",
       "      <td>7</td>\n",
       "      <td>spandhana</td>\n",
       "      <td>eee</td>\n",
       "    </tr>\n",
       "    <tr>\n",
       "      <th>7</th>\n",
       "      <td>8</td>\n",
       "      <td>manu</td>\n",
       "      <td>ece</td>\n",
       "    </tr>\n",
       "    <tr>\n",
       "      <th>8</th>\n",
       "      <td>9</td>\n",
       "      <td>teju</td>\n",
       "      <td>it</td>\n",
       "    </tr>\n",
       "    <tr>\n",
       "      <th>9</th>\n",
       "      <td>10</td>\n",
       "      <td>swetha</td>\n",
       "      <td>cse</td>\n",
       "    </tr>\n",
       "  </tbody>\n",
       "</table>\n",
       "</div>"
      ],
      "text/plain": [
       "   roll number       name  dep\n",
       "0            1     vishnu  cse\n",
       "1            2      priya  ece\n",
       "2            3      dolly  eee\n",
       "3            4       janu   it\n",
       "4            5    bhavana  cse\n",
       "5            6     sindhu  cse\n",
       "6            7  spandhana  eee\n",
       "7            8       manu  ece\n",
       "8            9       teju   it\n",
       "9           10     swetha  cse"
      ]
     },
     "execution_count": 5,
     "metadata": {},
     "output_type": "execute_result"
    }
   ],
   "source": [
    "ds1"
   ]
  },
  {
   "cell_type": "code",
   "execution_count": 24,
   "id": "ebb50222",
   "metadata": {},
   "outputs": [
    {
     "data": {
      "text/plain": [
       "<BarContainer object of 10 artists>"
      ]
     },
     "execution_count": 24,
     "metadata": {},
     "output_type": "execute_result"
    },
    {
     "data": {
      "image/png": "[encoded data removed]",
      "text/plain": [
       "<Figure size 640x480 with 1 Axes>"
      ]
     },
     "metadata": {},
     "output_type": "display_data"
    }
   ],
   "source": [
    "import matplotlib.pyplot as plt\n",
    "plt.bar(ds.name,ds.mark)"
   ]
  },
  {
   "cell_type": "code",
   "execution_count": 26,
   "id": "54e444f4",
   "metadata": {},
   "outputs": [
    {
     "data": {
      "text/plain": [
       "<AxesSubplot:>"
      ]
     },
     "execution_count": 26,
     "metadata": {},
     "output_type": "execute_result"
    },
    {
     "data": {
      "image/png": "[encoded data removed]",
      "text/plain": [
       "<Figure size 640x480 with 1 Axes>"
      ]
     },
     "metadata": {},
     "output_type": "display_data"
    }
   ],
   "source": [
    "ds.mark.plot.bar(stacked=True)"
   ]
  },
  {
   "cell_type": "code",
   "execution_count": 30,
   "id": "28252c16",
   "metadata": {},
   "outputs": [
    {
     "data": {
      "text/plain": [
       "<matplotlib.collections.PathCollection at 0x28870e04f40>"
      ]
     },
     "execution_count": 30,
     "metadata": {},
     "output_type": "execute_result"
    },
    {
     "data": {
      "image/png": "[encoded data removed]",
      "text/plain": [
       "<Figure size 640x480 with 1 Axes>"
      ]
     },
     "metadata": {},
     "output_type": "display_data"
    }
   ],
   "source": [
    "import matplotlib.pyplot as plt\n",
    "\n",
    "plt.scatter(ds.name,ds.mark)"
   ]
  },
  {
   "cell_type": "code",
   "execution_count": 33,
   "id": "0bbbbb64",
   "metadata": {},
   "outputs": [
    {
     "data": {
      "text/plain": [
       "<AxesSubplot:>"
      ]
     },
     "execution_count": 33,
     "metadata": {},
     "output_type": "execute_result"
    },
    {
     "data": {
      "image/png": "[encoded data removed]",
      "text/plain": [
       "<Figure size 640x480 with 1 Axes>"
      ]
     },
     "metadata": {},
     "output_type": "display_data"
    }
   ],
   "source": [
    "ds.plot.area()"
   ]
  },
  {
   "cell_type": "code",
   "execution_count": 12,
   "id": "910eaf4e",
   "metadata": {},
   "outputs": [
    {
     "data": {
      "text/plain": [
       "90"
      ]
     },
     "execution_count": 12,
     "metadata": {},
     "output_type": "execute_result"
    }
   ],
   "source": [
    "ds.mark.max()"
   ]
  },
  {
   "cell_type": "code",
   "execution_count": 13,
   "id": "526d3ef9",
   "metadata": {},
   "outputs": [
    {
     "data": {
      "text/plain": [
       "34"
      ]
     },
     "execution_count": 13,
     "metadata": {},
     "output_type": "execute_result"
    }
   ],
   "source": [
    "ds.mark.min()"
   ]
  },
  {
   "cell_type": "code",
   "execution_count": 36,
   "id": "399feda4",
   "metadata": {},
   "outputs": [
    {
     "data": {
      "text/plain": [
       "67.1"
      ]
     },
     "execution_count": 36,
     "metadata": {},
     "output_type": "execute_result"
    }
   ],
   "source": [
    "ds.mark.mean()"
   ]
  },
  {
   "cell_type": "code",
   "execution_count": 11,
   "id": "0d4f4654",
   "metadata": {},
   "outputs": [
    {
     "data": {
      "text/plain": [
       "roll number    0\n",
       "name           0\n",
       "dep            0\n",
       "mark           0\n",
       "location       0\n",
       "gpa            0\n",
       "dtype: int64"
      ]
     },
     "execution_count": 11,
     "metadata": {},
     "output_type": "execute_result"
    }
   ],
   "source": [
    "ds.isnull().sum()"
   ]
  },
  {
   "cell_type": "code",
   "execution_count": 17,
   "id": "3827a503",
   "metadata": {},
   "outputs": [
    {
     "data": {
      "image/png": "[encoded data removed]",
      "text/plain": [
       "<Figure size 640x480 with 1 Axes>"
      ]
     },
     "metadata": {},
     "output_type": "display_data"
    }
   ],
   "source": [
    "import matplotlib.pyplot as plt\n",
    "x=ds.name\n",
    "y=ds.mark\n",
    "plt.plot(x,y)\n",
    "plt.show()"
   ]
  },
  {
   "cell_type": "code",
   "execution_count": 21,
   "id": "5c6707d3",
   "metadata": {},
   "outputs": [
    {
     "data": {
      "text/plain": [
       "<AxesSubplot:xlabel='name', ylabel='mark'>"
      ]
     },
     "execution_count": 21,
     "metadata": {},
     "output_type": "execute_result"
    },
    {
     "data": {
      "image/png": "[encoded data removed]",
      "text/plain": [
       "<Figure size 640x480 with 1 Axes>"
      ]
     },
     "metadata": {},
     "output_type": "display_data"
    }
   ],
   "source": [
    "x=ds.name\n",
    "y=ds.mark\n",
    "sns.lineplot(x='name',y='mark',data=ds)"
   ]
  },
  {
   "cell_type": "code",
   "execution_count": null,
   "id": "319c7ea1",
   "metadata": {},
   "outputs": [],
   "source": []
  }
 ],
 "metadata": {
  "kernelspec": {
   "display_name": "Python 3 (ipykernel)",
   "language": "python",
   "name": "python3"
  },
  "language_info": {
   "codemirror_mode": {
    "name": "ipython",
    "version": 3
   },
   "file_extension": ".py",
   "mimetype": "text/x-python",
   "name": "python",
   "nbconvert_exporter": "python",
   "pygments_lexer": "ipython3",
   "version": "3.9.13"
  }
 },
 "nbformat": 4,
 "nbformat_minor": 5
}
